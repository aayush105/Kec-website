{
 "cells": [
  {
   "cell_type": "code",
   "execution_count": 11,
   "metadata": {},
   "outputs": [],
   "source": [
    "import pytesseract\n",
    "from PIL import Image\n",
    "import pdf2image\n",
    "import re"
   ]
  },
  {
   "cell_type": "code",
   "execution_count": 25,
   "metadata": {},
   "outputs": [],
   "source": [
    "pdf_file = \"fetched_data/result/56.1463551be%201-2.pdf\"\n"
   ]
  },
  {
   "cell_type": "code",
   "execution_count": 13,
   "metadata": {},
   "outputs": [],
   "source": [
    "pattern = r\"2?\\d+\"\n",
    "matches = re.findall(pattern,pdf_file)"
   ]
  },
  {
   "cell_type": "code",
   "execution_count": 14,
   "metadata": {},
   "outputs": [
    {
     "name": "stdout",
     "output_type": "stream",
     "text": [
      "22\n"
     ]
    }
   ],
   "source": [
    "matches = matches[-1] if matches[0][0] == \"2\" else \"2\"+matches[-1]\n",
    "print(matches)"
   ]
  },
  {
   "cell_type": "code",
   "execution_count": 17,
   "metadata": {},
   "outputs": [],
   "source": [
    "images = pdf2image.convert_from_path(pdf_file)"
   ]
  },
  {
   "cell_type": "code",
   "execution_count": 18,
   "metadata": {},
   "outputs": [],
   "source": [
    "languages = ['eng', 'nep']\n",
    "\n",
    "# Set the page segmentation mode to use automatic page segmentation with OSD\n",
    "psm = '--psm 6'\n",
    "\n",
    "# Set the OCR engine mode to use both LSTM and Legacy OCR engines\n",
    "oem = '--oem 3'\n",
    "\n",
    "# Build the configuration string\n",
    "config = f'{psm} {oem} -l {\"+\".join(languages)}'\n"
   ]
  },
  {
   "cell_type": "code",
   "execution_count": 19,
   "metadata": {},
   "outputs": [
    {
     "name": "stdout",
     "output_type": "stream",
     "text": [
      "[('I', 'II')]\n"
     ]
    }
   ],
   "source": [
    "faculty_level_pattern = r'(I|II|III|IV)/\\s*(I|II|III|IV)\\s+'\n",
    "text1 = pytesseract.image_to_string(images[0])\n",
    "text1 = text1.split(\"Page\")[0].replace(\"l\",\"I\")\n",
    "faculty = re.findall(faculty_level_pattern,text1)\n",
    "print(faculty)\n"
   ]
  },
  {
   "cell_type": "code",
   "execution_count": 20,
   "metadata": {},
   "outputs": [],
   "source": [
    "text_append = []\n",
    "for pg_no,image in enumerate(images):\n",
    "    if pg_no == 0:\n",
    "        text = pytesseract.image_to_string(image,config=config)\n",
    "        text = text.split(\"।\")[-1].strip()\n",
    "    elif pg_no < len(images)-1:\n",
    "        text = pytesseract.image_to_string(image,config=\"--psm 6\")\n",
    "        text = text.split(\"Nepal\")[-1].strip()\n",
    "    elif pg_no == len(images)-1:\n",
    "        text = pytesseract.image_to_string(image,config=config)\n",
    "        text = text.split(\"Nepal\")[-1].strip()\n",
    "        text = \"\".join(text.split(\"परीक्षा\")[0]).strip()\n",
    "\n",
    "    text_append.append(text.strip().replace(\" &\",\",\").replace(\".\",\"\"))\n"
   ]
  },
  {
   "cell_type": "code",
   "execution_count": 21,
   "metadata": {},
   "outputs": [],
   "source": [
    "input_txt = \"\".join(text_append)"
   ]
  },
  {
   "cell_type": "code",
   "execution_count": 22,
   "metadata": {},
   "outputs": [],
   "source": [
    "# Define the regular expression pattern to match the faculty names and their symbol numbers\n",
    "pattern = r'(BCT|BCE|BEX|BME|BAM|BGE|BAE|BEL)\\s+(\\w+/?\\w*)\\s+((?:\\d+(?:,\\s*)?)+)'\n",
    "# Iterate over the matches in the input text and create a dictionary of faculty names and symbol numbers\n",
    "symbol_dict = {}\n",
    "for match in re.finditer(pattern, input_txt):\n",
    "    faculty_name = match.group(1)\n",
    "    faculty_level = match.group(2)\n",
    "    # symbol_numbers = [int(x) for x in match.group(3).split(',')]\n",
    "    symbol_numbers = re.findall(r'\\b\\d+\\b',match.group(3))\n",
    "    key = faculty_name\n",
    "    symbol_dict[key] = symbol_numbers\n"
   ]
  },
  {
   "cell_type": "code",
   "execution_count": 43,
   "metadata": {},
   "outputs": [
    {
     "name": "stdout",
     "output_type": "stream",
     "text": [
      "['3654', '3655', '3659', '3661', '3662', '3663', '3665', '3666', '3668', '3702', '3705', '3710', '3712', '3713', '3714', '3724', '3725', '3731', '3733', '3734', '3736', '3738', '3740', '3741', '3743', '3744', '3745', '3751', '3852', '3854', '3856', '3858', '3860', '3861', '3862', '3867', '3868', '3901', '3902', '3903', '3904', '3905', '3958', '3959', '3963', '3964', '4002', '4004', '4006', '4052', '4053', '4104', '4106', '4109', '4111', '4118', '4151', '4152', '4201', '4259', '4260', '4261', '4262', '4263', '4264', '4265', '4301', '4309', '4310', '4315', '4320', '4321', '4323', '4324', '4325', '4329']\n"
     ]
    }
   ],
   "source": [
    "print(symbol_dict[\"BCT\"])"
   ]
  },
  {
   "cell_type": "code",
   "execution_count": 23,
   "metadata": {},
   "outputs": [
    {
     "name": "stdout",
     "output_type": "stream",
     "text": [
      "dict_keys(['BCE', 'BEL', 'BEX', 'BCT', 'BME', 'BAM', 'BGE'])\n"
     ]
    }
   ],
   "source": [
    "print(symbol_dict.keys())"
   ]
  }
 ],
 "metadata": {
  "kernelspec": {
   "display_name": "Python 3.11.1 64-bit",
   "language": "python",
   "name": "python3"
  },
  "language_info": {
   "codemirror_mode": {
    "name": "ipython",
    "version": 3
   },
   "file_extension": ".py",
   "mimetype": "text/x-python",
   "name": "python",
   "nbconvert_exporter": "python",
   "pygments_lexer": "ipython3",
   "version": "3.11.1"
  },
  "orig_nbformat": 4,
  "vscode": {
   "interpreter": {
    "hash": "4873c8d68dc7d05f027107aa992795e76291eb1080f3d61c92f530e364807ec7"
   }
  }
 },
 "nbformat": 4,
 "nbformat_minor": 2
}
